{
 "cells": [
  {
   "cell_type": "markdown",
   "metadata": {},
   "source": [
    "Videos 1-5\n",
    "\n",
    "https://en.wikipedia.org/wiki/Regression_analysis"
   ]
  },
  {
   "cell_type": "code",
   "execution_count": 81,
   "metadata": {
    "collapsed": false
   },
   "outputs": [],
   "source": [
    "import pandas as pd\n",
    "import math\n",
    "import numpy as np\n",
    "from sklearn import preprocessing, cross_validation , svm\n",
    "#https://scikit-learn.org/stable/modules/generated/sklearn.linear_model.LinearRegression.html\n",
    "from sklearn.linear_model import LinearRegression"
   ]
  },
  {
   "cell_type": "code",
   "execution_count": 100,
   "metadata": {
    "collapsed": false
   },
   "outputs": [
    {
     "data": {
      "text/html": [
       "<div>\n",
       "<table border=\"1\" class=\"dataframe\">\n",
       "  <thead>\n",
       "    <tr style=\"text-align: right;\">\n",
       "      <th></th>\n",
       "      <th>Date</th>\n",
       "      <th>Open</th>\n",
       "      <th>High</th>\n",
       "      <th>Low</th>\n",
       "      <th>Close</th>\n",
       "      <th>Adj Close</th>\n",
       "      <th>Volume</th>\n",
       "    </tr>\n",
       "  </thead>\n",
       "  <tbody>\n",
       "    <tr>\n",
       "      <th>0</th>\n",
       "      <td>2019-01-21</td>\n",
       "      <td>10919.349609</td>\n",
       "      <td>10987.450195</td>\n",
       "      <td>10885.750000</td>\n",
       "      <td>10961.849609</td>\n",
       "      <td>10961.849609</td>\n",
       "      <td>280100</td>\n",
       "    </tr>\n",
       "    <tr>\n",
       "      <th>1</th>\n",
       "      <td>2019-01-22</td>\n",
       "      <td>10949.799805</td>\n",
       "      <td>10949.799805</td>\n",
       "      <td>10864.150391</td>\n",
       "      <td>10922.750000</td>\n",
       "      <td>10922.750000</td>\n",
       "      <td>291800</td>\n",
       "    </tr>\n",
       "    <tr>\n",
       "      <th>2</th>\n",
       "      <td>2019-01-23</td>\n",
       "      <td>10931.049805</td>\n",
       "      <td>10944.799805</td>\n",
       "      <td>10811.950195</td>\n",
       "      <td>10831.500000</td>\n",
       "      <td>10831.500000</td>\n",
       "      <td>0</td>\n",
       "    </tr>\n",
       "    <tr>\n",
       "      <th>3</th>\n",
       "      <td>2019-01-24</td>\n",
       "      <td>10844.049805</td>\n",
       "      <td>10866.599609</td>\n",
       "      <td>10798.650391</td>\n",
       "      <td>10849.799805</td>\n",
       "      <td>10849.799805</td>\n",
       "      <td>350300</td>\n",
       "    </tr>\n",
       "    <tr>\n",
       "      <th>4</th>\n",
       "      <td>2019-01-25</td>\n",
       "      <td>10859.750000</td>\n",
       "      <td>10931.700195</td>\n",
       "      <td>10756.450195</td>\n",
       "      <td>10780.549805</td>\n",
       "      <td>10780.549805</td>\n",
       "      <td>449500</td>\n",
       "    </tr>\n",
       "  </tbody>\n",
       "</table>\n",
       "</div>"
      ],
      "text/plain": [
       "         Date          Open          High           Low         Close  \\\n",
       "0  2019-01-21  10919.349609  10987.450195  10885.750000  10961.849609   \n",
       "1  2019-01-22  10949.799805  10949.799805  10864.150391  10922.750000   \n",
       "2  2019-01-23  10931.049805  10944.799805  10811.950195  10831.500000   \n",
       "3  2019-01-24  10844.049805  10866.599609  10798.650391  10849.799805   \n",
       "4  2019-01-25  10859.750000  10931.700195  10756.450195  10780.549805   \n",
       "\n",
       "      Adj Close  Volume  \n",
       "0  10961.849609  280100  \n",
       "1  10922.750000  291800  \n",
       "2  10831.500000       0  \n",
       "3  10849.799805  350300  \n",
       "4  10780.549805  449500  "
      ]
     },
     "execution_count": 100,
     "metadata": {},
     "output_type": "execute_result"
    }
   ],
   "source": [
    "df = pd.read_csv(\"NSE_data.csv\")\n",
    "df.head()"
   ]
  },
  {
   "cell_type": "code",
   "execution_count": 101,
   "metadata": {
    "collapsed": false
   },
   "outputs": [
    {
     "data": {
      "text/html": [
       "<div>\n",
       "<table border=\"1\" class=\"dataframe\">\n",
       "  <thead>\n",
       "    <tr style=\"text-align: right;\">\n",
       "      <th></th>\n",
       "      <th>Date</th>\n",
       "      <th>Open</th>\n",
       "      <th>High</th>\n",
       "      <th>Low</th>\n",
       "      <th>Close</th>\n",
       "      <th>Adj Close</th>\n",
       "      <th>Volume</th>\n",
       "    </tr>\n",
       "  </thead>\n",
       "  <tbody>\n",
       "    <tr>\n",
       "      <th>count</th>\n",
       "      <td>242</td>\n",
       "      <td>242</td>\n",
       "      <td>242</td>\n",
       "      <td>242</td>\n",
       "      <td>242</td>\n",
       "      <td>242</td>\n",
       "      <td>242</td>\n",
       "    </tr>\n",
       "    <tr>\n",
       "      <th>unique</th>\n",
       "      <td>242</td>\n",
       "      <td>240</td>\n",
       "      <td>241</td>\n",
       "      <td>241</td>\n",
       "      <td>239</td>\n",
       "      <td>239</td>\n",
       "      <td>142</td>\n",
       "    </tr>\n",
       "    <tr>\n",
       "      <th>top</th>\n",
       "      <td>2019-04-24</td>\n",
       "      <td>null</td>\n",
       "      <td>null</td>\n",
       "      <td>null</td>\n",
       "      <td>11844.099609</td>\n",
       "      <td>11844.099609</td>\n",
       "      <td>600</td>\n",
       "    </tr>\n",
       "    <tr>\n",
       "      <th>freq</th>\n",
       "      <td>1</td>\n",
       "      <td>2</td>\n",
       "      <td>2</td>\n",
       "      <td>2</td>\n",
       "      <td>2</td>\n",
       "      <td>2</td>\n",
       "      <td>29</td>\n",
       "    </tr>\n",
       "  </tbody>\n",
       "</table>\n",
       "</div>"
      ],
      "text/plain": [
       "              Date  Open  High   Low         Close     Adj Close Volume\n",
       "count          242   242   242   242           242           242    242\n",
       "unique         242   240   241   241           239           239    142\n",
       "top     2019-04-24  null  null  null  11844.099609  11844.099609    600\n",
       "freq             1     2     2     2             2             2     29"
      ]
     },
     "execution_count": 101,
     "metadata": {},
     "output_type": "execute_result"
    }
   ],
   "source": [
    "df.describe()"
   ]
  },
  {
   "cell_type": "markdown",
   "metadata": {},
   "source": [
    "Regression does not consider the relationship between the features, so we need to make our own new features which will show the relationship between different features."
   ]
  },
  {
   "cell_type": "code",
   "execution_count": 102,
   "metadata": {
    "collapsed": false
   },
   "outputs": [],
   "source": [
    "df = df.fillna(axis = 1, method = \"ffill\")"
   ]
  },
  {
   "cell_type": "code",
   "execution_count": 103,
   "metadata": {
    "collapsed": false
   },
   "outputs": [],
   "source": [
    "def cus_fill(data):\n",
    "    list_data = list(data)\n",
    "    for i in range(0,len(list_data)):\n",
    "        if list_data[i] == \"null\":\n",
    "            list_data[i] = list_data[i-1]\n",
    "    return list_data\n",
    "\n",
    "for col in df.columns:\n",
    "    df[col] = cus_fill(df[col])"
   ]
  },
  {
   "cell_type": "code",
   "execution_count": 104,
   "metadata": {
    "collapsed": false
   },
   "outputs": [],
   "source": [
    "df['HighLow_PRCT'] = (df['High'].astype(float)-df['Close'].astype(float))/df['Close'].astype(float)*100\n",
    "df['PCT_change'] = (df['Close'].astype(float) - df['Open'].astype(float))/df['Open'].astype(float)*100"
   ]
  },
  {
   "cell_type": "code",
   "execution_count": 105,
   "metadata": {
    "collapsed": false
   },
   "outputs": [
    {
     "data": {
      "text/html": [
       "<div>\n",
       "<table border=\"1\" class=\"dataframe\">\n",
       "  <thead>\n",
       "    <tr style=\"text-align: right;\">\n",
       "      <th></th>\n",
       "      <th>Adj Close</th>\n",
       "      <th>HighLow_PRCT</th>\n",
       "      <th>PCT_change</th>\n",
       "      <th>Open</th>\n",
       "    </tr>\n",
       "  </thead>\n",
       "  <tbody>\n",
       "    <tr>\n",
       "      <th>0</th>\n",
       "      <td>10961.849609</td>\n",
       "      <td>0.233543</td>\n",
       "      <td>0.389217</td>\n",
       "      <td>10919.349609</td>\n",
       "    </tr>\n",
       "    <tr>\n",
       "      <th>1</th>\n",
       "      <td>10922.750000</td>\n",
       "      <td>0.247646</td>\n",
       "      <td>-0.247035</td>\n",
       "      <td>10949.799805</td>\n",
       "    </tr>\n",
       "    <tr>\n",
       "      <th>2</th>\n",
       "      <td>10831.500000</td>\n",
       "      <td>1.046021</td>\n",
       "      <td>-0.910707</td>\n",
       "      <td>10931.049805</td>\n",
       "    </tr>\n",
       "    <tr>\n",
       "      <th>3</th>\n",
       "      <td>10849.799805</td>\n",
       "      <td>0.154840</td>\n",
       "      <td>0.053024</td>\n",
       "      <td>10844.049805</td>\n",
       "    </tr>\n",
       "    <tr>\n",
       "      <th>4</th>\n",
       "      <td>10780.549805</td>\n",
       "      <td>1.402066</td>\n",
       "      <td>-0.729300</td>\n",
       "      <td>10859.750000</td>\n",
       "    </tr>\n",
       "  </tbody>\n",
       "</table>\n",
       "</div>"
      ],
      "text/plain": [
       "      Adj Close  HighLow_PRCT  PCT_change          Open\n",
       "0  10961.849609      0.233543    0.389217  10919.349609\n",
       "1  10922.750000      0.247646   -0.247035  10949.799805\n",
       "2  10831.500000      1.046021   -0.910707  10931.049805\n",
       "3  10849.799805      0.154840    0.053024  10844.049805\n",
       "4  10780.549805      1.402066   -0.729300  10859.750000"
      ]
     },
     "execution_count": 105,
     "metadata": {},
     "output_type": "execute_result"
    }
   ],
   "source": [
    "df_new = df[['Adj Close','HighLow_PRCT','PCT_change','Open']]\n",
    "df_new.head()"
   ]
  },
  {
   "cell_type": "markdown",
   "metadata": {
    "collapsed": true
   },
   "source": [
    "Briefly, feature is input; label is output. This applies to both classification and regression problems.\n",
    "A feature is one column of the data in your input set. For instance, if you're trying to predict the type of pet someone will choose, your input features might include age, home region, family income, etc. The label is the final choice, such as dog, fish, iguana, rock, etc.\n",
    "\n",
    "Once you've trained your model, you will give it sets of new input containing those features; it will return the predicted \"label\" (pet type) for that person."
   ]
  },
  {
   "cell_type": "code",
   "execution_count": 106,
   "metadata": {
    "collapsed": true
   },
   "outputs": [],
   "source": [
    "forcast_col = 'Adj Close'"
   ]
  },
  {
   "cell_type": "code",
   "execution_count": 107,
   "metadata": {
    "collapsed": false
   },
   "outputs": [],
   "source": [
    "# using this we are saying that we want to predict for the next 10 % days.\n",
    "\n",
    "forecast_out = int(math.ceil(0.01*len(df_new)))"
   ]
  },
  {
   "cell_type": "code",
   "execution_count": 108,
   "metadata": {
    "collapsed": false
   },
   "outputs": [
    {
     "name": "stderr",
     "output_type": "stream",
     "text": [
      "C:\\Program Files\\Anaconda3\\lib\\site-packages\\ipykernel\\__main__.py:1: SettingWithCopyWarning: \n",
      "A value is trying to be set on a copy of a slice from a DataFrame.\n",
      "Try using .loc[row_indexer,col_indexer] = value instead\n",
      "\n",
      "See the caveats in the documentation: http://pandas.pydata.org/pandas-docs/stable/indexing.html#indexing-view-versus-copy\n",
      "  if __name__ == '__main__':\n"
     ]
    }
   ],
   "source": [
    "df_new['label'] = df_new[forcast_col].shift(-forecast_out)"
   ]
  },
  {
   "cell_type": "code",
   "execution_count": 119,
   "metadata": {
    "collapsed": false
   },
   "outputs": [
    {
     "data": {
      "text/html": [
       "<div>\n",
       "<table border=\"1\" class=\"dataframe\">\n",
       "  <thead>\n",
       "    <tr style=\"text-align: right;\">\n",
       "      <th></th>\n",
       "      <th>Adj Close</th>\n",
       "      <th>HighLow_PRCT</th>\n",
       "      <th>PCT_change</th>\n",
       "      <th>Open</th>\n",
       "      <th>label</th>\n",
       "    </tr>\n",
       "  </thead>\n",
       "  <tbody>\n",
       "    <tr>\n",
       "      <th>0</th>\n",
       "      <td>10961.849609</td>\n",
       "      <td>0.233543</td>\n",
       "      <td>0.389217</td>\n",
       "      <td>10919.349609</td>\n",
       "      <td>10849.799805</td>\n",
       "    </tr>\n",
       "    <tr>\n",
       "      <th>1</th>\n",
       "      <td>10922.750000</td>\n",
       "      <td>0.247646</td>\n",
       "      <td>-0.247035</td>\n",
       "      <td>10949.799805</td>\n",
       "      <td>10780.549805</td>\n",
       "    </tr>\n",
       "  </tbody>\n",
       "</table>\n",
       "</div>"
      ],
      "text/plain": [
       "      Adj Close  HighLow_PRCT  PCT_change          Open         label\n",
       "0  10961.849609      0.233543    0.389217  10919.349609  10849.799805\n",
       "1  10922.750000      0.247646   -0.247035  10949.799805  10780.549805"
      ]
     },
     "execution_count": 119,
     "metadata": {},
     "output_type": "execute_result"
    }
   ],
   "source": [
    "df_new.head(2)"
   ]
  },
  {
   "cell_type": "code",
   "execution_count": 129,
   "metadata": {
    "collapsed": false
   },
   "outputs": [
    {
     "name": "stderr",
     "output_type": "stream",
     "text": [
      "C:\\Program Files\\Anaconda3\\lib\\site-packages\\ipykernel\\__main__.py:1: SettingWithCopyWarning: \n",
      "A value is trying to be set on a copy of a slice from a DataFrame\n",
      "\n",
      "See the caveats in the documentation: http://pandas.pydata.org/pandas-docs/stable/indexing.html#indexing-view-versus-copy\n",
      "  if __name__ == '__main__':\n"
     ]
    }
   ],
   "source": [
    "df_new.dropna(inplace = True)"
   ]
  },
  {
   "cell_type": "markdown",
   "metadata": {},
   "source": [
    "np array,ready features and label, "
   ]
  },
  {
   "cell_type": "code",
   "execution_count": 130,
   "metadata": {
    "collapsed": false
   },
   "outputs": [],
   "source": [
    "features = np.array(df_new.drop(['label'], axis = 1))\n",
    "#features"
   ]
  },
  {
   "cell_type": "code",
   "execution_count": 131,
   "metadata": {
    "collapsed": false
   },
   "outputs": [],
   "source": [
    "label = np.array(df_new.label)\n",
    "#label"
   ]
  },
  {
   "cell_type": "markdown",
   "metadata": {},
   "source": [
    "https://scikit-learn.org/stable/modules/generated/sklearn.preprocessing.scale.html\n",
    "\n",
    "preprocessing is used for converting the data into normal(Gaussian) Distribution. "
   ]
  },
  {
   "cell_type": "code",
   "execution_count": 132,
   "metadata": {
    "collapsed": false
   },
   "outputs": [
    {
     "name": "stderr",
     "output_type": "stream",
     "text": [
      "C:\\Program Files\\Anaconda3\\lib\\site-packages\\ipykernel\\__main__.py:1: SettingWithCopyWarning: \n",
      "A value is trying to be set on a copy of a slice from a DataFrame\n",
      "\n",
      "See the caveats in the documentation: http://pandas.pydata.org/pandas-docs/stable/indexing.html#indexing-view-versus-copy\n",
      "  if __name__ == '__main__':\n"
     ]
    }
   ],
   "source": [
    "df_new.dropna(inplace = True)"
   ]
  },
  {
   "cell_type": "code",
   "execution_count": 133,
   "metadata": {
    "collapsed": false
   },
   "outputs": [
    {
     "name": "stderr",
     "output_type": "stream",
     "text": [
      "C:\\Program Files\\Anaconda3\\lib\\site-packages\\sklearn\\utils\\validation.py:420: DataConversionWarning: Data with input dtype object was converted to float64 by the scale function.\n",
      "  warnings.warn(msg, DataConversionWarning)\n"
     ]
    }
   ],
   "source": [
    "scaled_X = preprocessing.scale(features)"
   ]
  },
  {
   "cell_type": "code",
   "execution_count": 134,
   "metadata": {
    "collapsed": true
   },
   "outputs": [],
   "source": [
    "#features = features[:-forecast_out+1]"
   ]
  },
  {
   "cell_type": "code",
   "execution_count": 135,
   "metadata": {
    "collapsed": true
   },
   "outputs": [],
   "source": [
    "y = np.array(df_new['label'])"
   ]
  },
  {
   "cell_type": "code",
   "execution_count": 136,
   "metadata": {
    "collapsed": false
   },
   "outputs": [
    {
     "name": "stdout",
     "output_type": "stream",
     "text": [
      "239 239\n"
     ]
    }
   ],
   "source": [
    "print(len(features),len(y))"
   ]
  },
  {
   "cell_type": "code",
   "execution_count": 137,
   "metadata": {
    "collapsed": false
   },
   "outputs": [],
   "source": [
    "# http://scikit-learn.sourceforge.net/stable/modules/generated/sklearn.cross_validation.train_test_split.html\n",
    "\n",
    "feature_train, feature_test, y_train, y_test = cross_validation.train_test_split(features, y,test_size=0.20, random_state=42)"
   ]
  },
  {
   "cell_type": "code",
   "execution_count": 138,
   "metadata": {
    "collapsed": false
   },
   "outputs": [],
   "source": [
    "regre = LinearRegression().fit(feature_train, y_train)"
   ]
  },
  {
   "cell_type": "code",
   "execution_count": 140,
   "metadata": {
    "collapsed": false
   },
   "outputs": [
    {
     "data": {
      "text/plain": [
       "0.88381606035613158"
      ]
     },
     "execution_count": 140,
     "metadata": {},
     "output_type": "execute_result"
    }
   ],
   "source": [
    "regre.score(feature_test, y_test)"
   ]
  },
  {
   "cell_type": "code",
   "execution_count": 141,
   "metadata": {
    "collapsed": true
   },
   "outputs": [],
   "source": [
    "regre2 = svm.SVR().fit(feature_train, y_train)"
   ]
  },
  {
   "cell_type": "code",
   "execution_count": 142,
   "metadata": {
    "collapsed": false
   },
   "outputs": [
    {
     "data": {
      "text/plain": [
       "-0.038806382904803538"
      ]
     },
     "execution_count": 142,
     "metadata": {},
     "output_type": "execute_result"
    }
   ],
   "source": [
    "regre2.score(feature_test, y_test)"
   ]
  },
  {
   "cell_type": "code",
   "execution_count": null,
   "metadata": {
    "collapsed": true
   },
   "outputs": [],
   "source": []
  }
 ],
 "metadata": {
  "anaconda-cloud": {},
  "kernelspec": {
   "display_name": "Python [conda root]",
   "language": "python",
   "name": "conda-root-py"
  },
  "language_info": {
   "codemirror_mode": {
    "name": "ipython",
    "version": 3
   },
   "file_extension": ".py",
   "mimetype": "text/x-python",
   "name": "python",
   "nbconvert_exporter": "python",
   "pygments_lexer": "ipython3",
   "version": "3.5.2"
  }
 },
 "nbformat": 4,
 "nbformat_minor": 1
}
